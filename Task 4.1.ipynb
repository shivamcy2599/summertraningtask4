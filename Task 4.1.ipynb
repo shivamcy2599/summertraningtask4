{
 "cells": [
  {
   "cell_type": "code",
   "execution_count": 2,
   "metadata": {},
   "outputs": [],
   "source": []
  },
  {
   "cell_type": "code",
   "execution_count": 7,
   "metadata": {},
   "outputs": [],
   "source": [
    "import cv2 \n",
    "import numpy as np\n",
    "\n",
    "black = np.zeros([1480,1000,3], np.uint8)"
   ]
  },
  {
   "cell_type": "code",
   "execution_count": 8,
   "metadata": {},
   "outputs": [],
   "source": [
    "shivam_img = cv2.circle(black, (230,150),50,[240,255,100],2)             \n",
    "shivam_img = cv2.circle(shivam_img,(200,140),10,[240,255,0],1)               \n",
    "shivam_img = cv2.circle(shivam_img,(260,140),10,[240,255,0],1)              \n",
    "\n",
    "shivam_img = cv2.circle(shivam_img,(260,140),5,[255,255,255],-1)             \n",
    "shivam_img = cv2.circle(shivam_img,(200,140),5,[255,255,255],-1)    \n",
    "\n",
    "shivam_img = cv2.circle(shivam_img,(228,165),5,[240,255,0],1)                \n",
    "\n",
    "shivam_img = cv2.rectangle(shivam_img,(214,185),(245,190),(255,255,255),2)   \n",
    "\n",
    "shivam_img = cv2.circle(shivam_img,(228,302),100,[240,255,100],2)            \n",
    "\n",
    "shivam_img = cv2.line(shivam_img,(170,255),(190,325),[240,255,100],2)        \n",
    "shivam_img = cv2.line(shivam_img,(290,255),(270,325),[240,255,100],2)       \n",
    "\n",
    "shivam_img = cv2.line(shivam_img,(200,400),(170,435),[240,255,100],2)        \n",
    "shivam_img = cv2.line(shivam_img,(260,400),(290,435),[240,255,100],2)        \n",
    "\n",
    "cv2.imshow(\"My image\", shivam_img)\n",
    "cv2.waitKey()\n",
    "cv2.destroyAllWindows()"
   ]
  },
  {
   "cell_type": "code",
   "execution_count": null,
   "metadata": {},
   "outputs": [],
   "source": []
  }
 ],
 "metadata": {
  "kernelspec": {
   "display_name": "Python 3",
   "language": "python",
   "name": "python3"
  },
  "language_info": {
   "codemirror_mode": {
    "name": "ipython",
    "version": 3
   },
   "file_extension": ".py",
   "mimetype": "text/x-python",
   "name": "python",
   "nbconvert_exporter": "python",
   "pygments_lexer": "ipython3",
   "version": "3.8.5"
  }
 },
 "nbformat": 4,
 "nbformat_minor": 4
}
